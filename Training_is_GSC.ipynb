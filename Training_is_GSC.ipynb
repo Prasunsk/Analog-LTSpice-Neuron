{
  "nbformat": 4,
  "nbformat_minor": 0,
  "metadata": {
    "colab": {
      "name": "Training is GSC.ipynb",
      "provenance": [],
      "collapsed_sections": [],
      "include_colab_link": true
    },
    "kernelspec": {
      "name": "python3",
      "display_name": "Python 3"
    },
    "accelerator": "GPU"
  },
  "cells": [
    {
      "cell_type": "markdown",
      "metadata": {
        "id": "view-in-github",
        "colab_type": "text"
      },
      "source": [
        "<a href=\"https://colab.research.google.com/github/Prasunsk/Analog-LTSpice-Neuron/blob/master/Training_is_GSC.ipynb\" target=\"_parent\"><img src=\"https://colab.research.google.com/assets/colab-badge.svg\" alt=\"Open In Colab\"/></a>"
      ]
    },
    {
      "cell_type": "code",
      "metadata": {
        "id": "02v5sR6H7IU9",
        "outputId": "d86873ff-5600-4fc9-b5b1-5f31e4b91b28",
        "colab": {
          "base_uri": "https://localhost:8080/",
          "height": 50
        }
      },
      "source": [
        "from google.colab import drive\n",
        "drive.mount('/gdrive')\n",
        "%cd /gdrive"
      ],
      "execution_count": 1,
      "outputs": [
        {
          "output_type": "stream",
          "text": [
            "Mounted at /gdrive\n",
            "/gdrive\n"
          ],
          "name": "stdout"
        }
      ]
    },
    {
      "cell_type": "code",
      "metadata": {
        "id": "YbL_oSdu7Mwi"
      },
      "source": [
        "import json\n",
        "import numpy as np\n",
        "from numpy import moveaxis\n",
        "import tensorflow as tf\n",
        "import matplotlib.pyplot as plt\n",
        "from sklearn.model_selection import train_test_split"
      ],
      "execution_count": 2,
      "outputs": []
    },
    {
      "cell_type": "code",
      "metadata": {
        "id": "MYnUI21U7fSn"
      },
      "source": [
        "data_path = '/gdrive/My Drive/Speech_Processing/Json_files/features.json'\n",
        "SAVED_MODEL_PATH = '/gdrive/My Drive/Speech_Processing/fullset_gsc_model.h5'\n",
        "EPOCHS = 40\n",
        "BATCH_SIZE = 32\n",
        "PATIENCE = 5\n",
        "LEARNING_RATE = 0.0001"
      ],
      "execution_count": 3,
      "outputs": []
    },
    {
      "cell_type": "code",
      "metadata": {
        "id": "pCqV_DDi7cC7",
        "outputId": "32408509-ad32-4bd3-c95c-caddf6f9c22e",
        "colab": {
          "base_uri": "https://localhost:8080/",
          "height": 50
        }
      },
      "source": [
        "# def load_data(data_path):\n",
        "#     \"\"\"Loads training dataset from json file.\n",
        "\n",
        "#     :param data_path (str): Path to json file containing data\n",
        "#     :return X (ndarray): Inputs\n",
        "#     :return y (ndarray): Targets\n",
        "\n",
        "#     \"\"\"\n",
        "with open(data_path, \"r\") as fp:\n",
        "    data = json.load(fp)\n",
        "X=np.zeros((11016,3,13,32))\n",
        "for i in range(len(X)):\n",
        "    X[i][0] = np.array([data[\"MFCCs\"][i]])\n",
        "    X[i][1] = np.array([data[\"MFCC_delta\"][i]])\n",
        "    X[i][2] = np.array([data[\"MFCC_delta_delta\"][i]])\n",
        "    y = np.array(data[\"labels\"])\n",
        "        \n",
        "X = moveaxis(X, 1, 3)\n",
        "print(X.shape) \n",
        "print(\"Training sets loaded!\")\n",
        "    # return X, y"
      ],
      "execution_count": 4,
      "outputs": [
        {
          "output_type": "stream",
          "text": [
            "(11016, 13, 32, 3)\n",
            "Training sets loaded!\n"
          ],
          "name": "stdout"
        }
      ]
    },
    {
      "cell_type": "code",
      "metadata": {
        "id": "F1xe_9tLuh17",
        "outputId": "1da8750d-6c44-4a09-e4ff-1e406decb229",
        "colab": {
          "base_uri": "https://localhost:8080/",
          "height": 33
        }
      },
      "source": [
        "len(data['MFCCs'])"
      ],
      "execution_count": 5,
      "outputs": [
        {
          "output_type": "execute_result",
          "data": {
            "text/plain": [
              "11016"
            ]
          },
          "metadata": {
            "tags": []
          },
          "execution_count": 5
        }
      ]
    },
    {
      "cell_type": "code",
      "metadata": {
        "id": "A2-RMh1K853m"
      },
      "source": [
        "# def prepare_dataset(data_path, test_size=0.2, validation_size=0.2):\n",
        "#     \"\"\"Creates train, validation and test sets.\n",
        "\n",
        "#     :param data_path (str): Path to json file containing data\n",
        "#     :param test_size (flaot): Percentage of dataset used for testing\n",
        "#     :param validation_size (float): Percentage of train set used for cross-validation\n",
        "\n",
        "#     :return X_train (ndarray): Inputs for the train set\n",
        "#     :return y_train (ndarray): Targets for the train set\n",
        "#     :return X_validation (ndarray): Inputs for the validation set\n",
        "#     :return y_validation (ndarray): Targets for the validation set\n",
        "#     :return X_test (ndarray): Inputs for the test set\n",
        "#     :return X_test (ndarray): Targets for the test set\n",
        "#     \"\"\"\n",
        "\n",
        "    # load dataset\n",
        "# X, y = load_data(data_path)\n",
        "# print(len(X))\n",
        "\n",
        "test_size=0.2\n",
        "validation_size=0.2\n",
        "    # create train, validation, test split\n",
        "X_train, X_test, y_train, y_test = train_test_split(X, y, test_size=test_size)\n",
        "X_train, X_validation, y_train, y_validation = train_test_split(X_train, y_train, test_size=validation_size)\n",
        "\n",
        "    # return X_train, y_train, X_validation, y_validation, X_test, y_test"
      ],
      "execution_count": 6,
      "outputs": []
    },
    {
      "cell_type": "code",
      "metadata": {
        "id": "J2JY1RK4t16y",
        "outputId": "943e0579-fbf7-4b32-84c0-250ec9d8f440",
        "colab": {
          "base_uri": "https://localhost:8080/",
          "height": 33
        }
      },
      "source": [
        "len(data['MFCCs'])"
      ],
      "execution_count": 9,
      "outputs": [
        {
          "output_type": "execute_result",
          "data": {
            "text/plain": [
              "11016"
            ]
          },
          "metadata": {
            "tags": []
          },
          "execution_count": 9
        }
      ]
    },
    {
      "cell_type": "code",
      "metadata": {
        "id": "efpN-Dx-9M2b"
      },
      "source": [
        "def build_model(input_shape, loss=\"sparse_categorical_crossentropy\", learning_rate=0.0001):\n",
        "#     \"\"\"Build neural network using keras.\n",
        "\n",
        "#     :param input_shape (tuple): Shape of array representing a sample train. E.g.: (44, 13, 1)\n",
        "#     :param loss (str): Loss function to use\n",
        "#     :param learning_rate (float):\n",
        "\n",
        "#     :return model: TensorFlow model\n",
        "#     \"\"\"\n",
        "\n",
        "#     # build network architecture using convolutional layers\n",
        "    model = tf.keras.models.Sequential()\n",
        "\n",
        "    # 1st conv layer\n",
        "    model.add(tf.keras.layers.Conv2D(64, (3, 3), activation='relu', input_shape=input_shape,data_format=\"channels_last\",kernel_regularizer=tf.keras.regularizers.l2(0.001)))\n",
        "    model.add(tf.keras.layers.BatchNormalization())\n",
        "    model.add(tf.keras.layers.MaxPooling2D((3, 3), strides=(2,2), padding='same'))\n",
        "\n",
        "    # 2nd conv layer\n",
        "    model.add(tf.keras.layers.Conv2D(32, (3, 3), activation='relu',data_format=\"channels_last\", kernel_regularizer=tf.keras.regularizers.l2(0.001)))\n",
        "    model.add(tf.keras.layers.BatchNormalization())\n",
        "    model.add(tf.keras.layers.MaxPooling2D((3, 3), strides=(2,2), padding='same'))\n",
        "\n",
        "    # # 3rd conv layer\n",
        "    # model.add(tf.keras.layers.Conv2D(32, (2, 2), activation='relu',\n",
        "    #                                  kernel_regularizer=tf.keras.regularizers.l2(0.001)))\n",
        "    # model.add(tf.keras.layers.BatchNormalization())\n",
        "    # model.add(tf.keras.layers.MaxPooling2D((2, 2), strides=(2,2), padding='same'))\n",
        "\n",
        "    # flatten output and feed into dense layer\n",
        "    model.add(tf.keras.layers.Flatten())\n",
        "    model.add(tf.keras.layers.Dense(120, activation='relu'))\n",
        "    tf.keras.layers.Dropout(0.3)\n",
        "\n",
        "    # softmax output layer\n",
        "    model.add(tf.keras.layers.Dense(10, activation='softmax'))\n",
        "\n",
        "    optimiser = tf.optimizers.Adam(learning_rate=learning_rate)\n",
        "\n",
        "    # compile model\n",
        "    model.compile(optimizer=optimiser,\n",
        "                  loss=loss,\n",
        "                  metrics=[\"accuracy\"])\n",
        "        # print model parameters on console\n",
        "    model.summary()\n",
        "\n",
        "    return model\n"
      ],
      "execution_count": 17,
      "outputs": []
    },
    {
      "cell_type": "code",
      "metadata": {
        "id": "nguQFiZV9ax3"
      },
      "source": [
        "def train(model, epochs, batch_size, patience, X_train, y_train, X_validation, y_validation):\n",
        "    earlystop_callback = tf.keras.callbacks.EarlyStopping(monitor=\"accuracy\", min_delta=0.001, patience=patience)\n",
        "    # train model\n",
        "    history = model.fit(X_train, y_train,epochs=epochs,batch_size=batch_size,validation_data=(X_validation, y_validation),callbacks=[earlystop_callback])\n",
        "    return history"
      ],
      "execution_count": 11,
      "outputs": []
    },
    {
      "cell_type": "code",
      "metadata": {
        "id": "XMWAs28e9i_f",
        "outputId": "24ef5637-1b22-41ae-89ac-3c57a984835e",
        "colab": {
          "base_uri": "https://localhost:8080/",
          "height": 1000
        }
      },
      "source": [
        "    # generate train, validation and test sets\n",
        "# X_train, y_train, X_validation, y_validation, X_test, y_test = prepare_dataset(data_path)\n",
        "\n",
        "    # create network\n",
        "input_shape = ( X_train.shape[1],X_train.shape[2],X_train.shape[3])   #(#sequence, #coefficients=13, 1)\n",
        "model = build_model(input_shape, learning_rate=LEARNING_RATE)\n",
        "\n",
        "    # train network\n",
        "history = train(model, EPOCHS, BATCH_SIZE, PATIENCE, X_train, y_train, X_validation, y_validation)\n",
        "\n",
        "    # plot accuracy/loss for training/validation set as a function of the epochs\n",
        "\n",
        "\n",
        "    # evaluate network on test set\n",
        "test_loss, test_acc = model.evaluate(X_test, y_test)\n",
        "print(\"\\nTest loss: {}, test accuracy: {}\".format(test_loss, 100*test_acc))\n",
        "\n",
        "    # save model\n",
        "model.save(SAVED_MODEL_PATH)"
      ],
      "execution_count": 19,
      "outputs": [
        {
          "output_type": "stream",
          "text": [
            "Model: \"sequential_4\"\n",
            "_________________________________________________________________\n",
            "Layer (type)                 Output Shape              Param #   \n",
            "=================================================================\n",
            "conv2d_8 (Conv2D)            (None, 11, 30, 64)        1792      \n",
            "_________________________________________________________________\n",
            "batch_normalization_8 (Batch (None, 11, 30, 64)        256       \n",
            "_________________________________________________________________\n",
            "max_pooling2d_8 (MaxPooling2 (None, 6, 15, 64)         0         \n",
            "_________________________________________________________________\n",
            "conv2d_9 (Conv2D)            (None, 4, 13, 32)         18464     \n",
            "_________________________________________________________________\n",
            "batch_normalization_9 (Batch (None, 4, 13, 32)         128       \n",
            "_________________________________________________________________\n",
            "max_pooling2d_9 (MaxPooling2 (None, 2, 7, 32)          0         \n",
            "_________________________________________________________________\n",
            "flatten_4 (Flatten)          (None, 448)               0         \n",
            "_________________________________________________________________\n",
            "dense_8 (Dense)              (None, 120)               53880     \n",
            "_________________________________________________________________\n",
            "dense_9 (Dense)              (None, 10)                1210      \n",
            "=================================================================\n",
            "Total params: 75,730\n",
            "Trainable params: 75,538\n",
            "Non-trainable params: 192\n",
            "_________________________________________________________________\n",
            "Epoch 1/40\n",
            "221/221 [==============================] - 1s 7ms/step - loss: 1.3642 - accuracy: 0.5331 - val_loss: 0.9282 - val_accuracy: 0.7067\n",
            "Epoch 2/40\n",
            "221/221 [==============================] - 1s 5ms/step - loss: 0.6473 - accuracy: 0.8044 - val_loss: 0.5593 - val_accuracy: 0.8400\n",
            "Epoch 3/40\n",
            "221/221 [==============================] - 1s 6ms/step - loss: 0.4344 - accuracy: 0.8796 - val_loss: 0.4315 - val_accuracy: 0.8775\n",
            "Epoch 4/40\n",
            "221/221 [==============================] - 1s 5ms/step - loss: 0.3340 - accuracy: 0.9129 - val_loss: 0.3540 - val_accuracy: 0.9013\n",
            "Epoch 5/40\n",
            "221/221 [==============================] - 1s 6ms/step - loss: 0.2715 - accuracy: 0.9316 - val_loss: 0.3388 - val_accuracy: 0.8979\n",
            "Epoch 6/40\n",
            "221/221 [==============================] - 1s 6ms/step - loss: 0.2387 - accuracy: 0.9391 - val_loss: 0.3035 - val_accuracy: 0.9189\n",
            "Epoch 7/40\n",
            "221/221 [==============================] - 1s 6ms/step - loss: 0.2105 - accuracy: 0.9498 - val_loss: 0.2777 - val_accuracy: 0.9280\n",
            "Epoch 8/40\n",
            "221/221 [==============================] - 1s 6ms/step - loss: 0.1853 - accuracy: 0.9560 - val_loss: 0.2616 - val_accuracy: 0.9325\n",
            "Epoch 9/40\n",
            "221/221 [==============================] - 1s 6ms/step - loss: 0.1705 - accuracy: 0.9616 - val_loss: 0.2877 - val_accuracy: 0.9144\n",
            "Epoch 10/40\n",
            "221/221 [==============================] - 1s 6ms/step - loss: 0.1562 - accuracy: 0.9667 - val_loss: 0.2516 - val_accuracy: 0.9308\n",
            "Epoch 11/40\n",
            "221/221 [==============================] - 1s 6ms/step - loss: 0.1452 - accuracy: 0.9665 - val_loss: 0.2423 - val_accuracy: 0.9353\n",
            "Epoch 12/40\n",
            "221/221 [==============================] - 1s 6ms/step - loss: 0.1353 - accuracy: 0.9708 - val_loss: 0.2536 - val_accuracy: 0.9274\n",
            "Epoch 13/40\n",
            "221/221 [==============================] - 1s 5ms/step - loss: 0.1248 - accuracy: 0.9732 - val_loss: 0.2326 - val_accuracy: 0.9387\n",
            "Epoch 14/40\n",
            "221/221 [==============================] - 1s 5ms/step - loss: 0.1154 - accuracy: 0.9787 - val_loss: 0.2293 - val_accuracy: 0.9399\n",
            "Epoch 15/40\n",
            "221/221 [==============================] - 1s 6ms/step - loss: 0.1067 - accuracy: 0.9823 - val_loss: 0.2259 - val_accuracy: 0.9342\n",
            "Epoch 16/40\n",
            "221/221 [==============================] - 1s 5ms/step - loss: 0.1014 - accuracy: 0.9843 - val_loss: 0.2395 - val_accuracy: 0.9246\n",
            "Epoch 17/40\n",
            "221/221 [==============================] - 1s 5ms/step - loss: 0.0992 - accuracy: 0.9831 - val_loss: 0.2284 - val_accuracy: 0.9410\n",
            "Epoch 18/40\n",
            "221/221 [==============================] - 1s 6ms/step - loss: 0.0907 - accuracy: 0.9875 - val_loss: 0.2403 - val_accuracy: 0.9404\n",
            "Epoch 19/40\n",
            "221/221 [==============================] - 1s 6ms/step - loss: 0.0842 - accuracy: 0.9902 - val_loss: 0.2297 - val_accuracy: 0.9370\n",
            "Epoch 20/40\n",
            "221/221 [==============================] - 1s 5ms/step - loss: 0.0802 - accuracy: 0.9923 - val_loss: 0.2241 - val_accuracy: 0.9387\n",
            "Epoch 21/40\n",
            "221/221 [==============================] - 1s 6ms/step - loss: 0.0759 - accuracy: 0.9922 - val_loss: 0.2367 - val_accuracy: 0.9427\n",
            "Epoch 22/40\n",
            "221/221 [==============================] - 1s 6ms/step - loss: 0.0742 - accuracy: 0.9926 - val_loss: 0.2405 - val_accuracy: 0.9421\n",
            "Epoch 23/40\n",
            "221/221 [==============================] - 1s 5ms/step - loss: 0.0682 - accuracy: 0.9953 - val_loss: 0.2167 - val_accuracy: 0.9438\n",
            "Epoch 24/40\n",
            "221/221 [==============================] - 1s 5ms/step - loss: 0.0663 - accuracy: 0.9956 - val_loss: 0.2265 - val_accuracy: 0.9404\n",
            "Epoch 25/40\n",
            "221/221 [==============================] - 1s 6ms/step - loss: 0.0631 - accuracy: 0.9970 - val_loss: 0.2429 - val_accuracy: 0.9455\n",
            "Epoch 26/40\n",
            "221/221 [==============================] - 1s 6ms/step - loss: 0.0619 - accuracy: 0.9967 - val_loss: 0.2466 - val_accuracy: 0.9410\n",
            "Epoch 27/40\n",
            "221/221 [==============================] - 1s 5ms/step - loss: 0.0593 - accuracy: 0.9980 - val_loss: 0.2547 - val_accuracy: 0.9314\n",
            "Epoch 28/40\n",
            "221/221 [==============================] - 1s 5ms/step - loss: 0.0573 - accuracy: 0.9980 - val_loss: 0.2531 - val_accuracy: 0.9348\n",
            "Epoch 29/40\n",
            "221/221 [==============================] - 1s 6ms/step - loss: 0.0564 - accuracy: 0.9977 - val_loss: 0.2362 - val_accuracy: 0.9376\n",
            "Epoch 30/40\n",
            "221/221 [==============================] - 1s 6ms/step - loss: 0.0523 - accuracy: 0.9990 - val_loss: 0.2400 - val_accuracy: 0.9410\n",
            "Epoch 31/40\n",
            "221/221 [==============================] - 1s 6ms/step - loss: 0.0507 - accuracy: 0.9991 - val_loss: 0.2519 - val_accuracy: 0.9387\n",
            "Epoch 32/40\n",
            "221/221 [==============================] - 1s 5ms/step - loss: 0.0517 - accuracy: 0.9982 - val_loss: 0.2428 - val_accuracy: 0.9427\n",
            "Epoch 33/40\n",
            "221/221 [==============================] - 1s 5ms/step - loss: 0.0499 - accuracy: 0.9991 - val_loss: 0.2920 - val_accuracy: 0.9348\n",
            "Epoch 34/40\n",
            "221/221 [==============================] - 1s 5ms/step - loss: 0.0499 - accuracy: 0.9989 - val_loss: 0.2483 - val_accuracy: 0.9404\n",
            "Epoch 35/40\n",
            "221/221 [==============================] - 1s 5ms/step - loss: 0.0469 - accuracy: 0.9997 - val_loss: 0.2449 - val_accuracy: 0.9438\n",
            "69/69 [==============================] - 0s 4ms/step - loss: 0.2318 - accuracy: 0.9505\n",
            "\n",
            "Test loss: 0.23176978528499603, test accuracy: 95.05444765090942\n"
          ],
          "name": "stdout"
        }
      ]
    },
    {
      "cell_type": "code",
      "metadata": {
        "id": "Gqet4Gn8MfUT",
        "outputId": "bf0e1dd5-00e2-403e-d457-d22cbc077217",
        "colab": {
          "base_uri": "https://localhost:8080/",
          "height": 33
        }
      },
      "source": [
        "X.shape"
      ],
      "execution_count": 15,
      "outputs": [
        {
          "output_type": "execute_result",
          "data": {
            "text/plain": [
              "(11016, 13, 32, 3)"
            ]
          },
          "metadata": {
            "tags": []
          },
          "execution_count": 15
        }
      ]
    },
    {
      "cell_type": "code",
      "metadata": {
        "id": "y12Pgp3M9oT6"
      },
      "source": [
        "# fig1 = plt.figure(1)\n",
        "from google.colab import files\n",
        "plt.plot(history.history[\"accuracy\"], label=\"accuracy\")\n",
        "plt.plot(history.history['val_accuracy'], label=\"val_accuracy\")\n",
        "plt.xlabel(\"Epoch\")\n",
        "plt.ylabel(\"Accuracy\")\n",
        "plt.legend(loc=\"lower right\")\n",
        "plt.title(\"Accuracy evaluation\")\n",
        "plt.savefig(f'/content/acc.png')"
      ],
      "execution_count": null,
      "outputs": []
    },
    {
      "cell_type": "code",
      "metadata": {
        "id": "SrDxiqEV-XHT"
      },
      "source": [
        "plt.plot(history.history[\"loss\"], label=\"loss\")\n",
        "plt.plot(history.history['val_loss'], label=\"val_loss\")\n",
        "plt.xlabel(\"Epoch\")\n",
        "plt.ylabel(\"loss\")\n",
        "plt.legend(loc=\"upper right\")\n",
        "plt.title(\"Loss evaluation\")\n",
        "plt.savefig(f'/content/loss.png')"
      ],
      "execution_count": null,
      "outputs": []
    }
  ]
}